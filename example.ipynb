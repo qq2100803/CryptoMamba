{
  "nbformat": 4,
  "nbformat_minor": 0,
  "metadata": {
    "colab": {
      "provenance": [],
      "gpuType": "V5E1",
      "include_colab_link": true
    },
    "kernelspec": {
      "name": "python3",
      "display_name": "Python 3"
    },
    "language_info": {
      "name": "python"
    },
    "accelerator": "TPU"
  },
  "cells": [
    {
      "cell_type": "markdown",
      "metadata": {
        "id": "view-in-github",
        "colab_type": "text"
      },
      "source": [
        "<a href=\"https://colab.research.google.com/github/qq2100803/CryptoMamba/blob/main/example.ipynb\" target=\"_parent\"><img src=\"https://colab.research.google.com/assets/colab-badge.svg\" alt=\"Open In Colab\"/></a>"
      ]
    },
    {
      "cell_type": "code",
      "execution_count": 8,
      "metadata": {
        "colab": {
          "base_uri": "https://localhost:8080/"
        },
        "cellView": "form",
        "id": "WCqI8zrlp99U",
        "outputId": "266f1816-40f7-470b-a3fd-837bc73ba4a4"
      },
      "outputs": [
        {
          "output_type": "stream",
          "name": "stdout",
          "text": [
            "Cloning into 'CryptoMamba'...\n",
            "remote: Enumerating objects: 212, done.\u001b[K\n",
            "remote: Counting objects: 100% (114/114), done.\u001b[K\n",
            "remote: Compressing objects: 100% (47/47), done.\u001b[K\n",
            "remote: Total 212 (delta 91), reused 67 (delta 67), pack-reused 98 (from 1)\u001b[K\n",
            "Receiving objects: 100% (212/212), 3.04 MiB | 38.86 MiB/s, done.\n",
            "Resolving deltas: 100% (108/108), done.\n",
            "/content/CryptoMamba/CryptoMamba\n"
          ]
        }
      ],
      "source": [
        "# @title Cloning\n",
        "!git clone https://github.com/MShahabSepehri/CryptoMamba.git\n",
        "%cd CryptoMamba/"
      ]
    },
    {
      "cell_type": "code",
      "source": [
        "# @title Installing requirements\n",
        "\n",
        "%%capture\n",
        "!pip install mamba-ssm[causal-conv1d] --no-build-isolation\n",
        "!pip install -r requirements.txt"
      ],
      "metadata": {
        "id": "QoSiNMCtqGj5"
      },
      "execution_count": 11,
      "outputs": []
    },
    {
      "cell_type": "code",
      "source": [
        "# @title Prediction\n",
        "!python scripts/one_day_pred.py --config cmamba_v --ckpt_path ./checkpoints/cmamba_v.ckpt --date 2024-12-15"
      ],
      "metadata": {
        "colab": {
          "base_uri": "https://localhost:8080/"
        },
        "id": "lAU_41CEeho4",
        "outputId": "b4507b9e-5109-4266-b6cd-023143c4a7b6"
      },
      "execution_count": 10,
      "outputs": [
        {
          "output_type": "stream",
          "name": "stdout",
          "text": [
            "Traceback (most recent call last):\n",
            "  File \"/content/CryptoMamba/CryptoMamba/scripts/one_day_pred.py\", line 12, in <module>\n",
            "    from pl_modules.data_module import CMambaDataModule\n",
            "  File \"/content/CryptoMamba/CryptoMamba/pl_modules/data_module.py\", line 5, in <module>\n",
            "    import pytorch_lightning as pl\n",
            "ModuleNotFoundError: No module named 'pytorch_lightning'\n"
          ]
        }
      ]
    },
    {
      "cell_type": "code",
      "source": [
        "# @title Training\n",
        "!python scripts/training.py --config cmamba_v"
      ],
      "metadata": {
        "id": "fVSOA2b_ssQq"
      },
      "execution_count": null,
      "outputs": []
    },
    {
      "cell_type": "code",
      "source": [
        "#@title 配置变量  { display-mode: \"form\" }\n",
        "REPO = \"https://github.com/MShahabSepehri/CryptoMamba.git\"\n",
        "WORKDIR = \"/content/CryptoMamba_run\"\n",
        "DATA_DIR = WORKDIR + \"/data\"\n",
        "CHECKPOINTS_DIR = WORKDIR + \"/checkpoints\"\n",
        "RESULTS_DIR = WORKDIR + \"/results\"\n",
        "CONFIG = \"cmamba_v\"  # 可改为需要的 config 名称\n",
        "PYTHON_BIN = \"python3\"  # Colab 使用系统 python\n",
        "WINDOW_DAYS = 365\n",
        "TEST_WINDOW_DAYS = 30\n",
        "ROLL_STEP_DAYS = 30\n",
        "EPOCHS_FOR_QUICK_RUN = 3  # 用于快速验证，可调整为生产值\n"
      ],
      "metadata": {
        "id": "zp82y8eILNjS"
      },
      "execution_count": 6,
      "outputs": []
    },
    {
      "cell_type": "code",
      "source": [
        "# 在 Colab 中执行\n",
        "%%bash\n",
        "set -euo pipefail\n",
        "WORKDIR=\"/content/CryptoMamba_run\"\n",
        "REPO=\"https://github.com/MShahabSepehri/CryptoMamba.git\"\n",
        "rm -rf \"$WORKDIR\"\n",
        "mkdir -p \"$WORKDIR\"\n",
        "git clone --depth 1 \"$REPO\" \"$WORKDIR/repo\"\n",
        "cd \"$WORKDIR/repo\"\n",
        "\n",
        "# 使用 Colab 的 Python 环境安装 requirements\n",
        "if [ -f requirements.txt ]; then\n",
        "pip install mamba-ssm[causal-conv1d] --no-build-isolation\n",
        "pip install -r requirements.txt\n",
        "\n",
        "else\n",
        "  echo \"未找到 requirements.txt，跳过依赖安装\"\n",
        "fi\n"
      ],
      "metadata": {
        "collapsed": true,
        "id": "XQmlMyDDLRI6"
      },
      "execution_count": null,
      "outputs": []
    },
    {
      "cell_type": "code",
      "source": [
        "# 拉取 BTC-USD 日线并保存为 repo/data/raw.csv（列名 Timestamp,Open,High,Low,Close,Volume）\n",
        "import yfinance as yf\n",
        "import pandas as pd\n",
        "import os\n",
        "\n",
        "WORKDIR = \"/content/CryptoMamba_run\"\n",
        "OUT_DIR = os.path.join(WORKDIR, \"data\")\n",
        "os.makedirs(OUT_DIR, exist_ok=True)\n",
        "OUT_CSV = os.path.join(OUT_DIR, \"btc_usd_daily.csv\")\n",
        "REPO_RAW = os.path.join(WORKDIR, \"repo\", \"data\", \"raw.csv\")\n",
        "os.makedirs(os.path.dirname(REPO_RAW), exist_ok=True)\n",
        "\n",
        "# 安装 yfinance（若尚未安装）\n",
        "try:\n",
        "    import yfinance\n",
        "except Exception:\n",
        "    import sys\n",
        "    !pip install yfinance --quiet\n",
        "\n",
        "# 下载数据\n",
        "df = yf.download(\"BTC-USD\", start=\"2010-01-01\", progress=False)\n",
        "if df.empty:\n",
        "    raise SystemExit(\"yfinance 未返回数据，检查网络或重试\")\n",
        "\n",
        "# 重整列并导出\n",
        "df = df.reset_index()\n",
        "df = df.rename(columns={\"Date\":\"Timestamp\"})\n",
        "df[\"Timestamp\"] = df[\"Timestamp\"].dt.strftime(\"%Y-%m-%d\")\n",
        "df = df[[\"Timestamp\",\"Open\",\"High\",\"Low\",\"Close\",\"Volume\"]]\n",
        "df.to_csv(OUT_CSV, index=False)\n",
        "df.to_csv(REPO_RAW, index=False)\n",
        "print(\"保存完成:\", OUT_CSV)\n",
        "print(\"repo path:\", REPO_RAW)\n",
        "print(df.tail(3))\n"
      ],
      "metadata": {
        "colab": {
          "base_uri": "https://localhost:8080/"
        },
        "id": "GuSaM0_gLYKT",
        "outputId": "9014d700-eece-4d55-85c3-8c729e5af507"
      },
      "execution_count": 7,
      "outputs": [
        {
          "output_type": "stream",
          "name": "stderr",
          "text": [
            "/tmp/ipython-input-2837690587.py:21: FutureWarning: YF.download() has changed argument auto_adjust default to True\n",
            "  df = yf.download(\"BTC-USD\", start=\"2010-01-01\", progress=False)\n"
          ]
        },
        {
          "output_type": "stream",
          "name": "stdout",
          "text": [
            "保存完成: /content/CryptoMamba_run/data/btc_usd_daily.csv\n",
            "repo path: /content/CryptoMamba_run/repo/data/raw.csv\n",
            "Price    Timestamp           Open           High            Low  \\\n",
            "Ticker                    BTC-USD        BTC-USD        BTC-USD   \n",
            "4031    2025-09-30  114396.523438  114836.617188  112740.562500   \n",
            "4032    2025-10-01  114057.593750  118648.929688  113981.398438   \n",
            "4033    2025-10-03  120606.320312  120606.320312  119965.937500   \n",
            "\n",
            "Price           Close       Volume  \n",
            "Ticker        BTC-USD      BTC-USD  \n",
            "4031    114056.085938  58986330258  \n",
            "4032    118648.929688  71328680132  \n",
            "4033    120403.328125  65915445248  \n"
          ]
        }
      ]
    },
    {
      "cell_type": "code",
      "source": [
        "# 在 Colab Python 单元中执行\n",
        "import pandas as pd, os, json\n",
        "WORKDIR = \"/content/CryptoMamba_run\"\n",
        "os.chdir(os.path.join(WORKDIR, \"repo\"))\n",
        "df = pd.read_csv(\"data/raw.csv\")\n",
        "# 兼容不同 CSV 中的日期列名\n",
        "date_col = None\n",
        "for candidate in [\"Date\",\"date\",\"timestamp\",\"Timestamp\"]:\n",
        "    if candidate in df.columns:\n",
        "        date_col = candidate\n",
        "        break\n",
        "if date_col is None:\n",
        "    raise SystemExit(\"未找到日期列，请检查 data/raw.csv 的列名（需要 Date 或类似列）\")\n",
        "df['Date'] = pd.to_datetime(df[date_col], errors='coerce')\n",
        "df = df.dropna(subset=['Date']).sort_values('Date').reset_index(drop=True)\n",
        "dates = df['Date'].dt.date.tolist()\n",
        "\n",
        "WINDOW = int(os.environ.get('WINDOW_DAYS', str(WINDOW_DAYS)))\n",
        "TEST = int(os.environ.get('TEST_WINDOW_DAYS', str(TEST_WINDOW_DAYS)))\n",
        "STEP = int(os.environ.get('ROLL_STEP_DAYS', str(ROLL_STEP_DAYS)))\n",
        "\n",
        "tasks = []\n",
        "start_idx = 0\n",
        "while start_idx + WINDOW + TEST <= len(dates):\n",
        "    train_start = dates[start_idx]\n",
        "    train_end = dates[start_idx + WINDOW - 1]\n",
        "    test_start = dates[start_idx + WINDOW]\n",
        "    test_end = dates[start_idx + WINDOW + TEST - 1]\n",
        "    tasks.append((str(train_start), str(train_end), str(test_start), str(test_end)))\n",
        "    start_idx += STEP\n",
        "\n",
        "with open(\"rolling_tasks.json\", \"w\") as f:\n",
        "    json.dump(tasks, f, indent=2)\n",
        "\n",
        "print(f\"生成 {len(tasks)} 个滚动任务，保存在 rolling_tasks.json\")\n"
      ],
      "metadata": {
        "colab": {
          "base_uri": "https://localhost:8080/"
        },
        "id": "KN5FqISRLcnr",
        "outputId": "2eb217d4-ddab-458b-dad8-b5ad69963391"
      },
      "execution_count": 18,
      "outputs": [
        {
          "output_type": "stream",
          "name": "stdout",
          "text": [
            "生成 122 个滚动任务，保存在 rolling_tasks.json\n"
          ]
        }
      ]
    },
    {
      "cell_type": "code",
      "source": [
        "%%bash\n",
        "set -euo pipefail\n",
        "cd /content/CryptoMamba_run/repo\n",
        "pip install ruamel.yaml --quiet\n",
        "WORKDIR=\"/content/CryptoMamba_run\"\n",
        "CHECKPOINTS_DIR=\"$WORKDIR/checkpoints\"\n",
        "RESULTS_DIR=\"$WORKDIR/results\"\n",
        "mkdir -p \"$CHECKPOINTS_DIR\" \"$RESULTS_DIR\"\n",
        "CHECKPOINTS_ROOT=\"$WORKDIR/repo/CryptoMamba/logs/CMamba\"\n",
        "CONFIG=\"cmamba_v\"\n",
        "PYTHON_BIN=\"python3\"\n",
        "EPOCHS_FOR_QUICK_RUN=3\n",
        "\n",
        "TASKS_COUNT=$(python3 -c \"import json,sys;print(len(json.load(open('rolling_tasks.json'))))\")\n",
        "if [ \"$TASKS_COUNT\" -eq 0 ]; then\n",
        "  echo \"任务数为 0，请检查数据长度和窗口参数。\" >&2\n",
        "  exit 1\n",
        "fi\n",
        "\n",
        "TASK_IDX=1\n",
        "for TASK in $(jq -c '.[]' rolling_tasks.json); do\n",
        "  TASK_IDX=$((TASK_IDX+1))\n",
        "  TRAIN_START=$(echo \"$TASK\" | jq -r '.[0]')\n",
        "  TRAIN_END=$(echo \"$TASK\" | jq -r '.[1]')\n",
        "  TEST_START=$(echo \"$TASK\" | jq -r '.[2]')\n",
        "  TEST_END=$(echo \"$TASK\" | jq -r '.[3]')\n",
        "\n",
        "  echo \"任务 $TASK_IDX / $TASKS_COUNT: 训练 $TRAIN_START -> $TRAIN_END 测试 $TEST_START -> $TEST_END\"\n",
        "\n",
        "  TMP_CONFIG=\"tmp_config_${TASK_IDX}.yaml\"\n",
        "  TMP_CONFIG1=\"tmp_config_${TASK_IDX}\"\n",
        "  if [ -f \"configs/training/${CONFIG}.yaml\" ]; then\n",
        "    cp \"configs/training/${CONFIG}.yaml\" \"$TMP_CONFIG\"\n",
        "  elif [ -f \"configs/${CONFIG}.yaml\" ]; then\n",
        "    cp \"configs/${CONFIG}.yaml\" \"$TMP_CONFIG\"\n",
        "  else\n",
        "    echo \"未找到源配置文件 configs/training/${CONFIG}.yaml 或 configs/${CONFIG}.yaml，跳过该任务\" >&2\n",
        "    continue\n",
        "  fi\n",
        "\n",
        "  # 使用 Python 修改 YAML，避免依赖 yq\n",
        "  python3 - <<PY\n",
        "import ruamel.yaml, sys, os\n",
        "fn=\"$TMP_CONFIG\"\n",
        "y=ruamel.yaml.YAML()\n",
        "with open(fn) as f:\n",
        "    cfg=y.load(f) or {}\n",
        "cfg.setdefault('data',{})['start_date']=\"$TRAIN_START\"\n",
        "cfg['data']['end_date']=\"$TRAIN_END\"\n",
        "cfg['data']['test_start']=\"$TEST_START\"\n",
        "cfg['data']['test_end']=\"$TEST_END\"\n",
        "cfg.setdefault('training',{})['epochs']=${EPOCHS_FOR_QUICK_RUN}\n",
        "with open(fn,'w') as f:\n",
        "    y.dump(cfg,f)\n",
        "print(\"已写入临时配置\",fn)\n",
        "PY\n",
        "\n",
        "  echo \"训练模型...\"\n",
        "  # 若脚本接受 --save_dir 或自动保存到 checkpoints，按仓库实际参数修改\n",
        "  \"$PYTHON_BIN\" scripts/training.py --config \"$CONFIG\" --logdir \"$CHECKPOINTS_ROOT\" --save_checkpoints --max_epochs ${EPOCHS_FOR_QUICK_RUN} 2>&1 | tee \"$RESULTS_DIR/train_${TASK_IDX}.log\" || true\n",
        "\n",
        "  # 在 logs/CMamba 下查找最新的 .ckpt（跨 version 目录）\n",
        "  LATEST_CKPT=$(find \"$CHECKPOINTS_ROOT\" -type f -name \"*.ckpt\" -print0 2>/dev/null | xargs -0 ls -t 2>/dev/null | head -n1 || true)\n",
        "  if [ -z \"$LATEST_CKPT\" ]; then\n",
        "    echo \"未找到 checkpoint（在 $CHECKPOINTS_ROOT 下没有 .ckpt 文件）。请查看 $RESULTS_DIR/train_${TASK_IDX}.log 以排查训练保存路径。\" >&2\n",
        "    continue\n",
        "  fi\n",
        "  echo \"找到最新 checkpoint: $LATEST_CKPT\"\n",
        "\n",
        "  echo \"评估模型...\"\n",
        "  $PYTHON_BIN scripts/evaluation.py --config \"$CONFIG\" --ckpt_path \"$LATEST_CKPT\" > \"$RESULTS_DIR/eval_${TASK_IDX}.log\" || true\n",
        "\n",
        "  echo \"回测（test split）...\"\n",
        "  $PYTHON_BIN scripts/simulate_trade.py --config \"$CONFIG\" --ckpt_path \"$LATEST_CKPT\" --split test --trade_mode smart > \"$RESULTS_DIR/backtest_${TASK_IDX}.log\" || true\n",
        "\n",
        "  echo \"准备单日预测输入 one_day_input.csv...\"\n",
        "  $PYTHON_BIN - <<PY\n",
        "import pandas as pd\n",
        "df=pd.read_csv(\"data/raw.csv\")\n",
        "df['Date']=pd.to_datetime(df['Date'])\n",
        "end=pd.to_datetime(\"$TEST_END\")\n",
        "subset=df[df['Date']<=end].tail(90)\n",
        "subset.to_csv(\"one_day_input.csv\",index=False)\n",
        "print(\"one_day_input.csv 已生成\")\n",
        "PY\n",
        "\n",
        "  echo \"单日预测...\"\n",
        "  $PYTHON_BIN scripts/one_day_pred.py --config \"$TMP_CONFIG1\" --ckpt_path \"$LATEST_CKPT\" --input_csv one_day_input.csv > \"$RESULTS_DIR/one_day_pred_${TASK_IDX}.log\" || true\n",
        "\n",
        "  echo \"任务 $TASK_IDX 完成，结果保存在 $RESULTS_DIR\"\n",
        "done\n",
        "\n",
        "echo \"全部任务完成。汇总评估日志在 $RESULTS_DIR\"\n"
      ],
      "metadata": {
        "colab": {
          "base_uri": "https://localhost:8080/",
          "height": 724
        },
        "id": "QG1L12SeMa5Z",
        "outputId": "d2f19a3c-c716-437f-92a4-6f730a484d43"
      },
      "execution_count": 1,
      "outputs": [
        {
          "output_type": "stream",
          "name": "stderr",
          "text": [
            "bash: line 2: cd: /content/CryptoMamba_run/repo: No such file or directory\n"
          ]
        },
        {
          "output_type": "error",
          "ename": "CalledProcessError",
          "evalue": "Command 'b'set -euo pipefail\\ncd /content/CryptoMamba_run/repo\\npip install ruamel.yaml --quiet\\nWORKDIR=\"/content/CryptoMamba_run\"\\nCHECKPOINTS_DIR=\"$WORKDIR/checkpoints\"\\nRESULTS_DIR=\"$WORKDIR/results\"\\nmkdir -p \"$CHECKPOINTS_DIR\" \"$RESULTS_DIR\"\\nCHECKPOINTS_ROOT=\"$WORKDIR/repo/CryptoMamba/logs/CMamba\"\\nCONFIG=\"cmamba_v\"\\nPYTHON_BIN=\"python3\"\\nEPOCHS_FOR_QUICK_RUN=3\\n\\nTASKS_COUNT=$(python3 -c \"import json,sys;print(len(json.load(open(\\'rolling_tasks.json\\'))))\")\\nif [ \"$TASKS_COUNT\" -eq 0 ]; then\\n  echo \"\\xe4\\xbb\\xbb\\xe5\\x8a\\xa1\\xe6\\x95\\xb0\\xe4\\xb8\\xba 0\\xef\\xbc\\x8c\\xe8\\xaf\\xb7\\xe6\\xa3\\x80\\xe6\\x9f\\xa5\\xe6\\x95\\xb0\\xe6\\x8d\\xae\\xe9\\x95\\xbf\\xe5\\xba\\xa6\\xe5\\x92\\x8c\\xe7\\xaa\\x97\\xe5\\x8f\\xa3\\xe5\\x8f\\x82\\xe6\\x95\\xb0\\xe3\\x80\\x82\" >&2\\n  exit 1\\nfi\\n\\nTASK_IDX=1\\nfor TASK in $(jq -c \\'.[]\\' rolling_tasks.json); do\\n  TASK_IDX=$((TASK_IDX+1))\\n  TRAIN_START=$(echo \"$TASK\" | jq -r \\'.[0]\\')\\n  TRAIN_END=$(echo \"$TASK\" | jq -r \\'.[1]\\')\\n  TEST_START=$(echo \"$TASK\" | jq -r \\'.[2]\\')\\n  TEST_END=$(echo \"$TASK\" | jq -r \\'.[3]\\')\\n\\n  echo \"\\xe4\\xbb\\xbb\\xe5\\x8a\\xa1 $TASK_IDX / $TASKS_COUNT: \\xe8\\xae\\xad\\xe7\\xbb\\x83 $TRAIN_START -> $TRAIN_END \\xe6\\xb5\\x8b\\xe8\\xaf\\x95 $TEST_START -> $TEST_END\"\\n\\n  TMP_CONFIG=\"tmp_config_${TASK_IDX}.yaml\"\\n  TMP_CONFIG1=\"tmp_config_${TASK_IDX}\"\\n  if [ -f \"configs/training/${CONFIG}.yaml\" ]; then\\n    cp \"configs/training/${CONFIG}.yaml\" \"$TMP_CONFIG\"\\n  elif [ -f \"configs/${CONFIG}.yaml\" ]; then\\n    cp \"configs/${CONFIG}.yaml\" \"$TMP_CONFIG\"\\n  else\\n    echo \"\\xe6\\x9c\\xaa\\xe6\\x89\\xbe\\xe5\\x88\\xb0\\xe6\\xba\\x90\\xe9\\x85\\x8d\\xe7\\xbd\\xae\\xe6\\x96\\x87\\xe4\\xbb\\xb6 configs/training/${CONFIG}.yaml \\xe6\\x88\\x96 configs/${CONFIG}.yaml\\xef\\xbc\\x8c\\xe8\\xb7\\xb3\\xe8\\xbf\\x87\\xe8\\xaf\\xa5\\xe4\\xbb\\xbb\\xe5\\x8a\\xa1\" >&2\\n    continue\\n  fi\\n\\n  # \\xe4\\xbd\\xbf\\xe7\\x94\\xa8 Python \\xe4\\xbf\\xae\\xe6\\x94\\xb9 YAML\\xef\\xbc\\x8c\\xe9\\x81\\xbf\\xe5\\x85\\x8d\\xe4\\xbe\\x9d\\xe8\\xb5\\x96 yq\\n  python3 - <<PY\\nimport ruamel.yaml, sys, os\\nfn=\"$TMP_CONFIG\"\\ny=ruamel.yaml.YAML()\\nwith open(fn) as f:\\n    cfg=y.load(f) or {}\\ncfg.setdefault(\\'data\\',{})[\\'start_date\\']=\"$TRAIN_START\"\\ncfg[\\'data\\'][\\'end_date\\']=\"$TRAIN_END\"\\ncfg[\\'data\\'][\\'test_start\\']=\"$TEST_START\"\\ncfg[\\'data\\'][\\'test_end\\']=\"$TEST_END\"\\ncfg.setdefault(\\'training\\',{})[\\'epochs\\']=${EPOCHS_FOR_QUICK_RUN}\\nwith open(fn,\\'w\\') as f:\\n    y.dump(cfg,f)\\nprint(\"\\xe5\\xb7\\xb2\\xe5\\x86\\x99\\xe5\\x85\\xa5\\xe4\\xb8\\xb4\\xe6\\x97\\xb6\\xe9\\x85\\x8d\\xe7\\xbd\\xae\",fn)\\nPY\\n\\n  echo \"\\xe8\\xae\\xad\\xe7\\xbb\\x83\\xe6\\xa8\\xa1\\xe5\\x9e\\x8b...\"\\n  # \\xe8\\x8b\\xa5\\xe8\\x84\\x9a\\xe6\\x9c\\xac\\xe6\\x8e\\xa5\\xe5\\x8f\\x97 --save_dir \\xe6\\x88\\x96\\xe8\\x87\\xaa\\xe5\\x8a\\xa8\\xe4\\xbf\\x9d\\xe5\\xad\\x98\\xe5\\x88\\xb0 checkpoints\\xef\\xbc\\x8c\\xe6\\x8c\\x89\\xe4\\xbb\\x93\\xe5\\xba\\x93\\xe5\\xae\\x9e\\xe9\\x99\\x85\\xe5\\x8f\\x82\\xe6\\x95\\xb0\\xe4\\xbf\\xae\\xe6\\x94\\xb9\\n  \"$PYTHON_BIN\" scripts/training.py --config \"$CONFIG\" --logdir \"$CHECKPOINTS_ROOT\" --save_checkpoints --max_epochs ${EPOCHS_FOR_QUICK_RUN} 2>&1 | tee \"$RESULTS_DIR/train_${TASK_IDX}.log\" || true\\n\\n  # \\xe5\\x9c\\xa8 logs/CMamba \\xe4\\xb8\\x8b\\xe6\\x9f\\xa5\\xe6\\x89\\xbe\\xe6\\x9c\\x80\\xe6\\x96\\xb0\\xe7\\x9a\\x84 .ckpt\\xef\\xbc\\x88\\xe8\\xb7\\xa8 version \\xe7\\x9b\\xae\\xe5\\xbd\\x95\\xef\\xbc\\x89\\n  LATEST_CKPT=$(find \"$CHECKPOINTS_ROOT\" -type f -name \"*.ckpt\" -print0 2>/dev/null | xargs -0 ls -t 2>/dev/null | head -n1 || true)\\n  if [ -z \"$LATEST_CKPT\" ]; then\\n    echo \"\\xe6\\x9c\\xaa\\xe6\\x89\\xbe\\xe5\\x88\\xb0 checkpoint\\xef\\xbc\\x88\\xe5\\x9c\\xa8 $CHECKPOINTS_ROOT \\xe4\\xb8\\x8b\\xe6\\xb2\\xa1\\xe6\\x9c\\x89 .ckpt \\xe6\\x96\\x87\\xe4\\xbb\\xb6\\xef\\xbc\\x89\\xe3\\x80\\x82\\xe8\\xaf\\xb7\\xe6\\x9f\\xa5\\xe7\\x9c\\x8b $RESULTS_DIR/train_${TASK_IDX}.log \\xe4\\xbb\\xa5\\xe6\\x8e\\x92\\xe6\\x9f\\xa5\\xe8\\xae\\xad\\xe7\\xbb\\x83\\xe4\\xbf\\x9d\\xe5\\xad\\x98\\xe8\\xb7\\xaf\\xe5\\xbe\\x84\\xe3\\x80\\x82\" >&2\\n    continue\\n  fi\\n  echo \"\\xe6\\x89\\xbe\\xe5\\x88\\xb0\\xe6\\x9c\\x80\\xe6\\x96\\xb0 checkpoint: $LATEST_CKPT\"\\n\\n  echo \"\\xe8\\xaf\\x84\\xe4\\xbc\\xb0\\xe6\\xa8\\xa1\\xe5\\x9e\\x8b...\"\\n  $PYTHON_BIN scripts/evaluation.py --config \"$CONFIG\" --ckpt_path \"$LATEST_CKPT\" > \"$RESULTS_DIR/eval_${TASK_IDX}.log\" || true\\n\\n  echo \"\\xe5\\x9b\\x9e\\xe6\\xb5\\x8b\\xef\\xbc\\x88test split\\xef\\xbc\\x89...\"\\n  $PYTHON_BIN scripts/simulate_trade.py --config \"$CONFIG\" --ckpt_path \"$LATEST_CKPT\" --split test --trade_mode smart > \"$RESULTS_DIR/backtest_${TASK_IDX}.log\" || true\\n\\n  echo \"\\xe5\\x87\\x86\\xe5\\xa4\\x87\\xe5\\x8d\\x95\\xe6\\x97\\xa5\\xe9\\xa2\\x84\\xe6\\xb5\\x8b\\xe8\\xbe\\x93\\xe5\\x85\\xa5 one_day_input.csv...\"\\n  $PYTHON_BIN - <<PY\\nimport pandas as pd\\ndf=pd.read_csv(\"data/raw.csv\")\\ndf[\\'Date\\']=pd.to_datetime(df[\\'Date\\'])\\nend=pd.to_datetime(\"$TEST_END\")\\nsubset=df[df[\\'Date\\']<=end].tail(90)\\nsubset.to_csv(\"one_day_input.csv\",index=False)\\nprint(\"one_day_input.csv \\xe5\\xb7\\xb2\\xe7\\x94\\x9f\\xe6\\x88\\x90\")\\nPY\\n\\n  echo \"\\xe5\\x8d\\x95\\xe6\\x97\\xa5\\xe9\\xa2\\x84\\xe6\\xb5\\x8b...\"\\n  $PYTHON_BIN scripts/one_day_pred.py --config \"$TMP_CONFIG1\" --ckpt_path \"$LATEST_CKPT\" --input_csv one_day_input.csv > \"$RESULTS_DIR/one_day_pred_${TASK_IDX}.log\" || true\\n\\n  echo \"\\xe4\\xbb\\xbb\\xe5\\x8a\\xa1 $TASK_IDX \\xe5\\xae\\x8c\\xe6\\x88\\x90\\xef\\xbc\\x8c\\xe7\\xbb\\x93\\xe6\\x9e\\x9c\\xe4\\xbf\\x9d\\xe5\\xad\\x98\\xe5\\x9c\\xa8 $RESULTS_DIR\"\\ndone\\n\\necho \"\\xe5\\x85\\xa8\\xe9\\x83\\xa8\\xe4\\xbb\\xbb\\xe5\\x8a\\xa1\\xe5\\xae\\x8c\\xe6\\x88\\x90\\xe3\\x80\\x82\\xe6\\xb1\\x87\\xe6\\x80\\xbb\\xe8\\xaf\\x84\\xe4\\xbc\\xb0\\xe6\\x97\\xa5\\xe5\\xbf\\x97\\xe5\\x9c\\xa8 $RESULTS_DIR\"\\n'' returned non-zero exit status 1.",
          "traceback": [
            "\u001b[0;31m---------------------------------------------------------------------------\u001b[0m",
            "\u001b[0;31mCalledProcessError\u001b[0m                        Traceback (most recent call last)",
            "\u001b[0;32m/tmp/ipython-input-1723421175.py\u001b[0m in \u001b[0;36m<cell line: 0>\u001b[0;34m()\u001b[0m\n\u001b[0;32m----> 1\u001b[0;31m \u001b[0mget_ipython\u001b[0m\u001b[0;34m(\u001b[0m\u001b[0;34m)\u001b[0m\u001b[0;34m.\u001b[0m\u001b[0mrun_cell_magic\u001b[0m\u001b[0;34m(\u001b[0m\u001b[0;34m'bash'\u001b[0m\u001b[0;34m,\u001b[0m \u001b[0;34m''\u001b[0m\u001b[0;34m,\u001b[0m \u001b[0;34m'set -euo pipefail\\ncd /content/CryptoMamba_run/repo\\npip install ruamel.yaml --quiet\\nWORKDIR=\"/content/CryptoMamba_run\"\\nCHECKPOINTS_DIR=\"$WORKDIR/checkpoints\"\\nRESULTS_DIR=\"$WORKDIR/results\"\\nmkdir -p \"$CHECKPOINTS_DIR\" \"$RESULTS_DIR\"\\nCHECKPOINTS_ROOT=\"$WORKDIR/repo/CryptoMamba/logs/CMamba\"\\nCONFIG=\"cmamba_v\"\\nPYTHON_BIN=\"python3\"\\nEPOCHS_FOR_QUICK_RUN=3\\n\\nTASKS_COUNT=$(python3 -c \"import json,sys;print(len(json.load(open(\\'rolling_tasks.json\\'))))\")\\nif [ \"$TASKS_COUNT\" -eq 0 ]; then\\n  echo \"任务数为 0，请检查数据长度和窗口参数。\" >&2\\n  exit 1\\nfi\\n\\nTASK_IDX=1\\nfor TASK in $(jq -c \\'.[]\\' rolling_tasks.json); do\\n  TASK_IDX=$((TASK_IDX+1))\\n  TRAIN_START=$(echo \"$TASK\" | jq -r \\'.[0]\\')\\n  TRAIN_END=$(echo \"$TASK\" | jq -r \\'.[1]\\')\\n  TEST_START=$(echo \"$TASK\" | jq -r \\'.[2]\\')\\n  TEST_END=$(echo \"$TASK\" | jq -r \\'.[3]\\')\\n\\n  echo \"任务 $TASK_IDX / $TASKS_COUNT: 训练 $TRAIN_START -> $TRAIN_END 测试 $TEST_START -> $TEST_END\"\\n\\n  TMP_CONFIG=\"tmp_config_${TASK_IDX}.yaml\"\\n  TMP_CONFIG1=\"tmp_config_${TASK_IDX}\"\\n  if [ -f \"configs/training/${CONFIG}.yaml\" ]; then\\n    cp \"configs/training/${CONFIG}.yaml\" \"$TMP_CONFIG\"\\n  elif [ -f \"configs/${CONFIG}.yaml\" ]; then\\n    cp \"configs/${CONFIG}.yaml\" \"$TMP_CONFIG\"\\n  else\\n    echo \"未找到源配置文件 configs/training/${CONFIG}.yaml 或 configs/${CONFIG}.yaml，跳过该任务\" >&2\\n    continue\\n...\n\u001b[0m",
            "\u001b[0;32m/usr/local/lib/python3.12/dist-packages/google/colab/_shell.py\u001b[0m in \u001b[0;36mrun_cell_magic\u001b[0;34m(self, magic_name, line, cell)\u001b[0m\n\u001b[1;32m    274\u001b[0m     \u001b[0;32mif\u001b[0m \u001b[0mline\u001b[0m \u001b[0;32mand\u001b[0m \u001b[0;32mnot\u001b[0m \u001b[0mcell\u001b[0m\u001b[0;34m:\u001b[0m\u001b[0;34m\u001b[0m\u001b[0;34m\u001b[0m\u001b[0m\n\u001b[1;32m    275\u001b[0m       \u001b[0mcell\u001b[0m \u001b[0;34m=\u001b[0m \u001b[0;34m' '\u001b[0m\u001b[0;34m\u001b[0m\u001b[0;34m\u001b[0m\u001b[0m\n\u001b[0;32m--> 276\u001b[0;31m     \u001b[0;32mreturn\u001b[0m \u001b[0msuper\u001b[0m\u001b[0;34m(\u001b[0m\u001b[0;34m)\u001b[0m\u001b[0;34m.\u001b[0m\u001b[0mrun_cell_magic\u001b[0m\u001b[0;34m(\u001b[0m\u001b[0mmagic_name\u001b[0m\u001b[0;34m,\u001b[0m \u001b[0mline\u001b[0m\u001b[0;34m,\u001b[0m \u001b[0mcell\u001b[0m\u001b[0;34m)\u001b[0m\u001b[0;34m\u001b[0m\u001b[0;34m\u001b[0m\u001b[0m\n\u001b[0m\u001b[1;32m    277\u001b[0m \u001b[0;34m\u001b[0m\u001b[0m\n\u001b[1;32m    278\u001b[0m \u001b[0;34m\u001b[0m\u001b[0m\n",
            "\u001b[0;32m/usr/local/lib/python3.12/dist-packages/IPython/core/interactiveshell.py\u001b[0m in \u001b[0;36mrun_cell_magic\u001b[0;34m(self, magic_name, line, cell)\u001b[0m\n\u001b[1;32m   2471\u001b[0m             \u001b[0;32mwith\u001b[0m \u001b[0mself\u001b[0m\u001b[0;34m.\u001b[0m\u001b[0mbuiltin_trap\u001b[0m\u001b[0;34m:\u001b[0m\u001b[0;34m\u001b[0m\u001b[0;34m\u001b[0m\u001b[0m\n\u001b[1;32m   2472\u001b[0m                 \u001b[0margs\u001b[0m \u001b[0;34m=\u001b[0m \u001b[0;34m(\u001b[0m\u001b[0mmagic_arg_s\u001b[0m\u001b[0;34m,\u001b[0m \u001b[0mcell\u001b[0m\u001b[0;34m)\u001b[0m\u001b[0;34m\u001b[0m\u001b[0;34m\u001b[0m\u001b[0m\n\u001b[0;32m-> 2473\u001b[0;31m                 \u001b[0mresult\u001b[0m \u001b[0;34m=\u001b[0m \u001b[0mfn\u001b[0m\u001b[0;34m(\u001b[0m\u001b[0;34m*\u001b[0m\u001b[0margs\u001b[0m\u001b[0;34m,\u001b[0m \u001b[0;34m**\u001b[0m\u001b[0mkwargs\u001b[0m\u001b[0;34m)\u001b[0m\u001b[0;34m\u001b[0m\u001b[0;34m\u001b[0m\u001b[0m\n\u001b[0m\u001b[1;32m   2474\u001b[0m             \u001b[0;32mreturn\u001b[0m \u001b[0mresult\u001b[0m\u001b[0;34m\u001b[0m\u001b[0;34m\u001b[0m\u001b[0m\n\u001b[1;32m   2475\u001b[0m \u001b[0;34m\u001b[0m\u001b[0m\n",
            "\u001b[0;32m/usr/local/lib/python3.12/dist-packages/IPython/core/magics/script.py\u001b[0m in \u001b[0;36mnamed_script_magic\u001b[0;34m(line, cell)\u001b[0m\n\u001b[1;32m    140\u001b[0m             \u001b[0;32melse\u001b[0m\u001b[0;34m:\u001b[0m\u001b[0;34m\u001b[0m\u001b[0;34m\u001b[0m\u001b[0m\n\u001b[1;32m    141\u001b[0m                 \u001b[0mline\u001b[0m \u001b[0;34m=\u001b[0m \u001b[0mscript\u001b[0m\u001b[0;34m\u001b[0m\u001b[0;34m\u001b[0m\u001b[0m\n\u001b[0;32m--> 142\u001b[0;31m             \u001b[0;32mreturn\u001b[0m \u001b[0mself\u001b[0m\u001b[0;34m.\u001b[0m\u001b[0mshebang\u001b[0m\u001b[0;34m(\u001b[0m\u001b[0mline\u001b[0m\u001b[0;34m,\u001b[0m \u001b[0mcell\u001b[0m\u001b[0;34m)\u001b[0m\u001b[0;34m\u001b[0m\u001b[0;34m\u001b[0m\u001b[0m\n\u001b[0m\u001b[1;32m    143\u001b[0m \u001b[0;34m\u001b[0m\u001b[0m\n\u001b[1;32m    144\u001b[0m         \u001b[0;31m# write a basic docstring:\u001b[0m\u001b[0;34m\u001b[0m\u001b[0;34m\u001b[0m\u001b[0m\n",
            "\u001b[0;32m<decorator-gen-103>\u001b[0m in \u001b[0;36mshebang\u001b[0;34m(self, line, cell)\u001b[0m\n",
            "\u001b[0;32m/usr/local/lib/python3.12/dist-packages/IPython/core/magic.py\u001b[0m in \u001b[0;36m<lambda>\u001b[0;34m(f, *a, **k)\u001b[0m\n\u001b[1;32m    185\u001b[0m     \u001b[0;31m# but it's overkill for just that one bit of state.\u001b[0m\u001b[0;34m\u001b[0m\u001b[0;34m\u001b[0m\u001b[0m\n\u001b[1;32m    186\u001b[0m     \u001b[0;32mdef\u001b[0m \u001b[0mmagic_deco\u001b[0m\u001b[0;34m(\u001b[0m\u001b[0marg\u001b[0m\u001b[0;34m)\u001b[0m\u001b[0;34m:\u001b[0m\u001b[0;34m\u001b[0m\u001b[0;34m\u001b[0m\u001b[0m\n\u001b[0;32m--> 187\u001b[0;31m         \u001b[0mcall\u001b[0m \u001b[0;34m=\u001b[0m \u001b[0;32mlambda\u001b[0m \u001b[0mf\u001b[0m\u001b[0;34m,\u001b[0m \u001b[0;34m*\u001b[0m\u001b[0ma\u001b[0m\u001b[0;34m,\u001b[0m \u001b[0;34m**\u001b[0m\u001b[0mk\u001b[0m\u001b[0;34m:\u001b[0m \u001b[0mf\u001b[0m\u001b[0;34m(\u001b[0m\u001b[0;34m*\u001b[0m\u001b[0ma\u001b[0m\u001b[0;34m,\u001b[0m \u001b[0;34m**\u001b[0m\u001b[0mk\u001b[0m\u001b[0;34m)\u001b[0m\u001b[0;34m\u001b[0m\u001b[0;34m\u001b[0m\u001b[0m\n\u001b[0m\u001b[1;32m    188\u001b[0m \u001b[0;34m\u001b[0m\u001b[0m\n\u001b[1;32m    189\u001b[0m         \u001b[0;32mif\u001b[0m \u001b[0mcallable\u001b[0m\u001b[0;34m(\u001b[0m\u001b[0marg\u001b[0m\u001b[0;34m)\u001b[0m\u001b[0;34m:\u001b[0m\u001b[0;34m\u001b[0m\u001b[0;34m\u001b[0m\u001b[0m\n",
            "\u001b[0;32m/usr/local/lib/python3.12/dist-packages/IPython/core/magics/script.py\u001b[0m in \u001b[0;36mshebang\u001b[0;34m(self, line, cell)\u001b[0m\n\u001b[1;32m    243\u001b[0m             \u001b[0msys\u001b[0m\u001b[0;34m.\u001b[0m\u001b[0mstderr\u001b[0m\u001b[0;34m.\u001b[0m\u001b[0mflush\u001b[0m\u001b[0;34m(\u001b[0m\u001b[0;34m)\u001b[0m\u001b[0;34m\u001b[0m\u001b[0;34m\u001b[0m\u001b[0m\n\u001b[1;32m    244\u001b[0m         \u001b[0;32mif\u001b[0m \u001b[0margs\u001b[0m\u001b[0;34m.\u001b[0m\u001b[0mraise_error\u001b[0m \u001b[0;32mand\u001b[0m \u001b[0mp\u001b[0m\u001b[0;34m.\u001b[0m\u001b[0mreturncode\u001b[0m\u001b[0;34m!=\u001b[0m\u001b[0;36m0\u001b[0m\u001b[0;34m:\u001b[0m\u001b[0;34m\u001b[0m\u001b[0;34m\u001b[0m\u001b[0m\n\u001b[0;32m--> 245\u001b[0;31m             \u001b[0;32mraise\u001b[0m \u001b[0mCalledProcessError\u001b[0m\u001b[0;34m(\u001b[0m\u001b[0mp\u001b[0m\u001b[0;34m.\u001b[0m\u001b[0mreturncode\u001b[0m\u001b[0;34m,\u001b[0m \u001b[0mcell\u001b[0m\u001b[0;34m,\u001b[0m \u001b[0moutput\u001b[0m\u001b[0;34m=\u001b[0m\u001b[0mout\u001b[0m\u001b[0;34m,\u001b[0m \u001b[0mstderr\u001b[0m\u001b[0;34m=\u001b[0m\u001b[0merr\u001b[0m\u001b[0;34m)\u001b[0m\u001b[0;34m\u001b[0m\u001b[0;34m\u001b[0m\u001b[0m\n\u001b[0m\u001b[1;32m    246\u001b[0m \u001b[0;34m\u001b[0m\u001b[0m\n\u001b[1;32m    247\u001b[0m     \u001b[0;32mdef\u001b[0m \u001b[0m_run_script\u001b[0m\u001b[0;34m(\u001b[0m\u001b[0mself\u001b[0m\u001b[0;34m,\u001b[0m \u001b[0mp\u001b[0m\u001b[0;34m,\u001b[0m \u001b[0mcell\u001b[0m\u001b[0;34m,\u001b[0m \u001b[0mto_close\u001b[0m\u001b[0;34m)\u001b[0m\u001b[0;34m:\u001b[0m\u001b[0;34m\u001b[0m\u001b[0;34m\u001b[0m\u001b[0m\n",
            "\u001b[0;31mCalledProcessError\u001b[0m: Command 'b'set -euo pipefail\\ncd /content/CryptoMamba_run/repo\\npip install ruamel.yaml --quiet\\nWORKDIR=\"/content/CryptoMamba_run\"\\nCHECKPOINTS_DIR=\"$WORKDIR/checkpoints\"\\nRESULTS_DIR=\"$WORKDIR/results\"\\nmkdir -p \"$CHECKPOINTS_DIR\" \"$RESULTS_DIR\"\\nCHECKPOINTS_ROOT=\"$WORKDIR/repo/CryptoMamba/logs/CMamba\"\\nCONFIG=\"cmamba_v\"\\nPYTHON_BIN=\"python3\"\\nEPOCHS_FOR_QUICK_RUN=3\\n\\nTASKS_COUNT=$(python3 -c \"import json,sys;print(len(json.load(open(\\'rolling_tasks.json\\'))))\")\\nif [ \"$TASKS_COUNT\" -eq 0 ]; then\\n  echo \"\\xe4\\xbb\\xbb\\xe5\\x8a\\xa1\\xe6\\x95\\xb0\\xe4\\xb8\\xba 0\\xef\\xbc\\x8c\\xe8\\xaf\\xb7\\xe6\\xa3\\x80\\xe6\\x9f\\xa5\\xe6\\x95\\xb0\\xe6\\x8d\\xae\\xe9\\x95\\xbf\\xe5\\xba\\xa6\\xe5\\x92\\x8c\\xe7\\xaa\\x97\\xe5\\x8f\\xa3\\xe5\\x8f\\x82\\xe6\\x95\\xb0\\xe3\\x80\\x82\" >&2\\n  exit 1\\nfi\\n\\nTASK_IDX=1\\nfor TASK in $(jq -c \\'.[]\\' rolling_tasks.json); do\\n  TASK_IDX=$((TASK_IDX+1))\\n  TRAIN_START=$(echo \"$TASK\" | jq -r \\'.[0]\\')\\n  TRAIN_END=$(echo \"$TASK\" | jq -r \\'.[1]\\')\\n  TEST_START=$(echo \"$TASK\" | jq -r \\'.[2]\\')\\n  TEST_END=$(echo \"$TASK\" | jq -r \\'.[3]\\')\\n\\n  echo \"\\xe4\\xbb\\xbb\\xe5\\x8a\\xa1 $TASK_IDX / $TASKS_COUNT: \\xe8\\xae\\xad\\xe7\\xbb\\x83 $TRAIN_START -> $TRAIN_END \\xe6\\xb5\\x8b\\xe8\\xaf\\x95 $TEST_START -> $TEST_END\"\\n\\n  TMP_CONFIG=\"tmp_config_${TASK_IDX}.yaml\"\\n  TMP_CONFIG1=\"tmp_config_${TASK_IDX}\"\\n  if [ -f \"configs/training/${CONFIG}.yaml\" ]; then\\n    cp \"configs/training/${CONFIG}.yaml\" \"$TMP_CONFIG\"\\n  elif [ -f \"configs/${CONFIG}.yaml\" ]; then\\n    cp \"configs/${CONFIG}...."
          ]
        }
      ]
    },
    {
      "cell_type": "code",
      "source": [
        "%%bash\n",
        "set -euo pipefail\n",
        "cd /content/CryptoMamba_run/repo\n",
        "\n",
        "# 安装必要库用于 yaml 修改（若已安装会跳过）\n",
        "pip install ruamel.yaml --quiet\n",
        "\n",
        "WORKDIR=\"/content/CryptoMamba_run\"\n",
        "# 指向仓库日志目录（含 version_x/checkpoints 子目录）\n",
        "CHECKPOINTS_ROOT=\"$WORKDIR/repo/CryptoMamba/logs/CMamba\"\n",
        "RESULTS_DIR=\"$WORKDIR/results\"\n",
        "mkdir -p \"$RESULTS_DIR\"\n",
        "\n",
        "CONFIG=\"cmamba_v\"\n",
        "PYTHON_BIN=\"python3\"\n",
        "EPOCHS_FOR_QUICK_RUN=3\n",
        "\n",
        "# 检查 rolling_tasks.json\n",
        "TASKS_COUNT=$(python3 -c \"import json,sys;print(len(json.load(open('rolling_tasks.json'))))\")\n",
        "if [ \"$TASKS_COUNT\" -eq 0 ]; then\n",
        "  echo \"任务数为 0，请检查 rolling_tasks.json 和数据长度。\" >&2\n",
        "  exit 1\n",
        "fi\n",
        "\n",
        "TASK_IDX=0\n",
        "#for TASK in $(jq -c '.[]' rolling_tasks.json); do\n",
        "  TASK_IDX=$((TASK_IDX+1))\n",
        "  TRAIN_START=$(echo \"$TASK\" | jq -r '.[0]')\n",
        "  TRAIN_END=$(echo \"$TASK\" | jq -r '.[1]')\n",
        "  TEST_START=$(echo \"$TASK\" | jq -r '.[2]')\n",
        "  TEST_END=$(echo \"$TASK\" | jq -r '.[3]')\n",
        "\n",
        "  echo \"任务 $TASK_IDX / $TASKS_COUNT: 训练 $TRAIN_START -> $TRAIN_END 测试 $TEST_START -> $TEST_END\"\n",
        "\n",
        "  TMP_CONFIG=\"tmp_config_${TASK_IDX}.yaml\"\n",
        "  if [ -f \"configs/training/${CONFIG}.yaml\" ]; then\n",
        "    cp \"configs/training/${CONFIG}.yaml\" \"$TMP_CONFIG\"\n",
        "  elif [ -f \"configs/${CONFIG}.yaml\" ]; then\n",
        "    cp \"configs/${CONFIG}.yaml\" \"$TMP_CONFIG\"\n",
        "  else\n",
        "    echo \"未找到源配置文件 configs/training/${CONFIG}.yaml 或 configs/${CONFIG}.yaml，跳过该任务\" >&2\n",
        "    continue\n",
        "  fi\n",
        "\n",
        "  # 修改临时配置\n",
        "  python3 - <<PY\n",
        "import ruamel.yaml, os\n",
        "fn = \"$TMP_CONFIG\"\n",
        "y = ruamel.yaml.YAML()\n",
        "with open(fn, 'r', encoding='utf-8') as f:\n",
        "    cfg = y.load(f) or {}\n",
        "cfg.setdefault('data',{})['start_date'] = \"$TRAIN_START\"\n",
        "cfg['data']['end_date'] = \"$TRAIN_END\"\n",
        "cfg['data']['test_start'] = \"$TEST_START\"\n",
        "cfg['data']['test_end'] = \"$TEST_END\"\n",
        "cfg.setdefault('training',{})['epochs'] = ${EPOCHS_FOR_QUICK_RUN}\n",
        "with open(fn, 'w', encoding='utf-8') as f:\n",
        "    y.dump(cfg, f)\n",
        "print(\"已写入临时配置\", fn)\n",
        "PY\n",
        "\n",
        "  echo \"训练模型（将日志/检查点写入 Lightning logdir）...\"\n",
        "  # 用脚本支持的参数：--logdir 指向日志根目录（脚本会在 version_x 下写入）\n",
        "  # 把输出日志保存到 RESULTS_DIR 以便排查\n",
        "  \"$PYTHON_BIN\" scripts/training.py --config \"$TMP_CONFIG\" --logdir \"$CHECKPOINTS_ROOT\" --save_checkpoints --max_epochs ${EPOCHS_FOR_QUICK_RUN} 2>&1 | tee \"$RESULTS_DIR/train_${TASK_IDX}.log\" || true\n",
        "\n",
        "  # 在 logs/CMamba 下查找最新的 .ckpt（跨 version 目录）\n",
        "  LATEST_CKPT=$(find \"$CHECKPOINTS_ROOT\" -type f -name \"*.ckpt\" -print0 2>/dev/null | xargs -0 ls -t 2>/dev/null | head -n1 || true)\n",
        "  if [ -z \"$LATEST_CKPT\" ]; then\n",
        "    echo \"未找到 checkpoint（在 $CHECKPOINTS_ROOT 下没有 .ckpt 文件）。请查看 $RESULTS_DIR/train_${TASK_IDX}.log 以排查训练保存路径。\" >&2\n",
        "    continue\n",
        "  fi\n",
        "  echo \"找到最新 checkpoint: $LATEST_CKPT\"\n",
        "\n",
        "  echo \"评估模型...\"\n",
        "  \"$PYTHON_BIN\" scripts/evaluation.py --config \"$TMP_CONFIG\" --ckpt_path \"$LATEST_CKPT\" > \"$RESULTS_DIR/eval_${TASK_IDX}.log\" || true\n",
        "\n",
        "  echo \"回测（test split）...\"\n",
        "  \"$PYTHON_BIN\" scripts/simulate_trade.py --config \"$TMP_CONFIG\" --ckpt_path \"$LATEST_CKPT\" --split test --trade_mode smart > \"$RESULTS_DIR/backtest_${TASK_IDX}.log\" || true\n",
        "\n",
        "  echo \"准备单日预测输入 one_day_input.csv...\"\n",
        "  \"$PYTHON_BIN\" - <<PY\n",
        "import pandas as pd\n",
        "df = pd.read_csv(\"data/raw.csv\")\n",
        "# 尝试兼容不同的日期列名\n",
        "for col in ['Date','date','Timestamp','timestamp']:\n",
        "    if col in df.columns:\n",
        "        df['Date'] = pd.to_datetime(df[col], errors='coerce')\n",
        "        break\n",
        "else:\n",
        "    df['Date'] = pd.to_datetime(df.iloc[:,0], errors='coerce')\n",
        "end = pd.to_datetime(\"$TEST_END\")\n",
        "subset = df[df['Date'] <= end].tail(90)\n",
        "subset.to_csv(\"one_day_input.csv\", index=False)\n",
        "print(\"one_day_input.csv 已生成\", subset.shape)\n",
        "PY\n",
        "\n",
        "  echo \"单日预测...\"\n",
        "  \"$PYTHON_BIN\" scripts/one_day_pred.py --config \"$TMP_CONFIG\" --ckpt_path \"$LATEST_CKPT\" --input_csv one_day_input.csv > \"$RESULTS_DIR/one_day_pred_${TASK_IDX}.log\" || true\n",
        "\n",
        "  echo \"任务 $TASK_IDX 完成，结果保存在 $RESULTS_DIR\"\n",
        "done\n",
        "\n",
        "echo \"全部任务完成。汇总评估日志在 $RESULTS_DIR\"\n"
      ],
      "metadata": {
        "colab": {
          "base_uri": "https://localhost:8080/",
          "height": 722
        },
        "id": "EFqiZaaparGs",
        "outputId": "e1582ec7-5505-4229-dbc3-d17e8d34dd62"
      },
      "execution_count": 15,
      "outputs": [
        {
          "output_type": "stream",
          "name": "stderr",
          "text": [
            "bash: line 27: TASK: unbound variable\n"
          ]
        },
        {
          "output_type": "error",
          "ename": "CalledProcessError",
          "evalue": "Command 'b'set -euo pipefail\\ncd /content/CryptoMamba_run/repo\\n\\n# \\xe5\\xae\\x89\\xe8\\xa3\\x85\\xe5\\xbf\\x85\\xe8\\xa6\\x81\\xe5\\xba\\x93\\xe7\\x94\\xa8\\xe4\\xba\\x8e yaml \\xe4\\xbf\\xae\\xe6\\x94\\xb9\\xef\\xbc\\x88\\xe8\\x8b\\xa5\\xe5\\xb7\\xb2\\xe5\\xae\\x89\\xe8\\xa3\\x85\\xe4\\xbc\\x9a\\xe8\\xb7\\xb3\\xe8\\xbf\\x87\\xef\\xbc\\x89\\npip install ruamel.yaml --quiet\\n\\nWORKDIR=\"/content/CryptoMamba_run\"\\n# \\xe6\\x8c\\x87\\xe5\\x90\\x91\\xe4\\xbb\\x93\\xe5\\xba\\x93\\xe6\\x97\\xa5\\xe5\\xbf\\x97\\xe7\\x9b\\xae\\xe5\\xbd\\x95\\xef\\xbc\\x88\\xe5\\x90\\xab version_x/checkpoints \\xe5\\xad\\x90\\xe7\\x9b\\xae\\xe5\\xbd\\x95\\xef\\xbc\\x89\\nCHECKPOINTS_ROOT=\"$WORKDIR/repo/CryptoMamba/logs/CMamba\"\\nRESULTS_DIR=\"$WORKDIR/results\"\\nmkdir -p \"$RESULTS_DIR\"\\n\\nCONFIG=\"cmamba_v\"\\nPYTHON_BIN=\"python3\"\\nEPOCHS_FOR_QUICK_RUN=3\\n\\n# \\xe6\\xa3\\x80\\xe6\\x9f\\xa5 rolling_tasks.json\\nTASKS_COUNT=$(python3 -c \"import json,sys;print(len(json.load(open(\\'rolling_tasks.json\\'))))\")\\nif [ \"$TASKS_COUNT\" -eq 0 ]; then\\n  echo \"\\xe4\\xbb\\xbb\\xe5\\x8a\\xa1\\xe6\\x95\\xb0\\xe4\\xb8\\xba 0\\xef\\xbc\\x8c\\xe8\\xaf\\xb7\\xe6\\xa3\\x80\\xe6\\x9f\\xa5 rolling_tasks.json \\xe5\\x92\\x8c\\xe6\\x95\\xb0\\xe6\\x8d\\xae\\xe9\\x95\\xbf\\xe5\\xba\\xa6\\xe3\\x80\\x82\" >&2\\n  exit 1\\nfi\\n\\nTASK_IDX=0\\n#for TASK in $(jq -c \\'.[]\\' rolling_tasks.json); do\\n  TASK_IDX=$((TASK_IDX+1))\\n  TRAIN_START=$(echo \"$TASK\" | jq -r \\'.[0]\\')\\n  TRAIN_END=$(echo \"$TASK\" | jq -r \\'.[1]\\')\\n  TEST_START=$(echo \"$TASK\" | jq -r \\'.[2]\\')\\n  TEST_END=$(echo \"$TASK\" | jq -r \\'.[3]\\')\\n\\n  echo \"\\xe4\\xbb\\xbb\\xe5\\x8a\\xa1 $TASK_IDX / $TASKS_COUNT: \\xe8\\xae\\xad\\xe7\\xbb\\x83 $TRAIN_START -> $TRAIN_END \\xe6\\xb5\\x8b\\xe8\\xaf\\x95 $TEST_START -> $TEST_END\"\\n\\n  TMP_CONFIG=\"tmp_config_${TASK_IDX}.yaml\"\\n  if [ -f \"configs/training/${CONFIG}.yaml\" ]; then\\n    cp \"configs/training/${CONFIG}.yaml\" \"$TMP_CONFIG\"\\n  elif [ -f \"configs/${CONFIG}.yaml\" ]; then\\n    cp \"configs/${CONFIG}.yaml\" \"$TMP_CONFIG\"\\n  else\\n    echo \"\\xe6\\x9c\\xaa\\xe6\\x89\\xbe\\xe5\\x88\\xb0\\xe6\\xba\\x90\\xe9\\x85\\x8d\\xe7\\xbd\\xae\\xe6\\x96\\x87\\xe4\\xbb\\xb6 configs/training/${CONFIG}.yaml \\xe6\\x88\\x96 configs/${CONFIG}.yaml\\xef\\xbc\\x8c\\xe8\\xb7\\xb3\\xe8\\xbf\\x87\\xe8\\xaf\\xa5\\xe4\\xbb\\xbb\\xe5\\x8a\\xa1\" >&2\\n    continue\\n  fi\\n\\n  # \\xe4\\xbf\\xae\\xe6\\x94\\xb9\\xe4\\xb8\\xb4\\xe6\\x97\\xb6\\xe9\\x85\\x8d\\xe7\\xbd\\xae\\n  python3 - <<PY\\nimport ruamel.yaml, os\\nfn = \"$TMP_CONFIG\"\\ny = ruamel.yaml.YAML()\\nwith open(fn, \\'r\\', encoding=\\'utf-8\\') as f:\\n    cfg = y.load(f) or {}\\ncfg.setdefault(\\'data\\',{})[\\'start_date\\'] = \"$TRAIN_START\"\\ncfg[\\'data\\'][\\'end_date\\'] = \"$TRAIN_END\"\\ncfg[\\'data\\'][\\'test_start\\'] = \"$TEST_START\"\\ncfg[\\'data\\'][\\'test_end\\'] = \"$TEST_END\"\\ncfg.setdefault(\\'training\\',{})[\\'epochs\\'] = ${EPOCHS_FOR_QUICK_RUN}\\nwith open(fn, \\'w\\', encoding=\\'utf-8\\') as f:\\n    y.dump(cfg, f)\\nprint(\"\\xe5\\xb7\\xb2\\xe5\\x86\\x99\\xe5\\x85\\xa5\\xe4\\xb8\\xb4\\xe6\\x97\\xb6\\xe9\\x85\\x8d\\xe7\\xbd\\xae\", fn)\\nPY\\n\\n  echo \"\\xe8\\xae\\xad\\xe7\\xbb\\x83\\xe6\\xa8\\xa1\\xe5\\x9e\\x8b\\xef\\xbc\\x88\\xe5\\xb0\\x86\\xe6\\x97\\xa5\\xe5\\xbf\\x97/\\xe6\\xa3\\x80\\xe6\\x9f\\xa5\\xe7\\x82\\xb9\\xe5\\x86\\x99\\xe5\\x85\\xa5 Lightning logdir\\xef\\xbc\\x89...\"\\n  # \\xe7\\x94\\xa8\\xe8\\x84\\x9a\\xe6\\x9c\\xac\\xe6\\x94\\xaf\\xe6\\x8c\\x81\\xe7\\x9a\\x84\\xe5\\x8f\\x82\\xe6\\x95\\xb0\\xef\\xbc\\x9a--logdir \\xe6\\x8c\\x87\\xe5\\x90\\x91\\xe6\\x97\\xa5\\xe5\\xbf\\x97\\xe6\\xa0\\xb9\\xe7\\x9b\\xae\\xe5\\xbd\\x95\\xef\\xbc\\x88\\xe8\\x84\\x9a\\xe6\\x9c\\xac\\xe4\\xbc\\x9a\\xe5\\x9c\\xa8 version_x \\xe4\\xb8\\x8b\\xe5\\x86\\x99\\xe5\\x85\\xa5\\xef\\xbc\\x89\\n  # \\xe6\\x8a\\x8a\\xe8\\xbe\\x93\\xe5\\x87\\xba\\xe6\\x97\\xa5\\xe5\\xbf\\x97\\xe4\\xbf\\x9d\\xe5\\xad\\x98\\xe5\\x88\\xb0 RESULTS_DIR \\xe4\\xbb\\xa5\\xe4\\xbe\\xbf\\xe6\\x8e\\x92\\xe6\\x9f\\xa5\\n  \"$PYTHON_BIN\" scripts/training.py --config \"$TMP_CONFIG\" --logdir \"$CHECKPOINTS_ROOT\" --save_checkpoints --max_epochs ${EPOCHS_FOR_QUICK_RUN} 2>&1 | tee \"$RESULTS_DIR/train_${TASK_IDX}.log\" || true\\n\\n  # \\xe5\\x9c\\xa8 logs/CMamba \\xe4\\xb8\\x8b\\xe6\\x9f\\xa5\\xe6\\x89\\xbe\\xe6\\x9c\\x80\\xe6\\x96\\xb0\\xe7\\x9a\\x84 .ckpt\\xef\\xbc\\x88\\xe8\\xb7\\xa8 version \\xe7\\x9b\\xae\\xe5\\xbd\\x95\\xef\\xbc\\x89\\n  LATEST_CKPT=$(find \"$CHECKPOINTS_ROOT\" -type f -name \"*.ckpt\" -print0 2>/dev/null | xargs -0 ls -t 2>/dev/null | head -n1 || true)\\n  if [ -z \"$LATEST_CKPT\" ]; then\\n    echo \"\\xe6\\x9c\\xaa\\xe6\\x89\\xbe\\xe5\\x88\\xb0 checkpoint\\xef\\xbc\\x88\\xe5\\x9c\\xa8 $CHECKPOINTS_ROOT \\xe4\\xb8\\x8b\\xe6\\xb2\\xa1\\xe6\\x9c\\x89 .ckpt \\xe6\\x96\\x87\\xe4\\xbb\\xb6\\xef\\xbc\\x89\\xe3\\x80\\x82\\xe8\\xaf\\xb7\\xe6\\x9f\\xa5\\xe7\\x9c\\x8b $RESULTS_DIR/train_${TASK_IDX}.log \\xe4\\xbb\\xa5\\xe6\\x8e\\x92\\xe6\\x9f\\xa5\\xe8\\xae\\xad\\xe7\\xbb\\x83\\xe4\\xbf\\x9d\\xe5\\xad\\x98\\xe8\\xb7\\xaf\\xe5\\xbe\\x84\\xe3\\x80\\x82\" >&2\\n    continue\\n  fi\\n  echo \"\\xe6\\x89\\xbe\\xe5\\x88\\xb0\\xe6\\x9c\\x80\\xe6\\x96\\xb0 checkpoint: $LATEST_CKPT\"\\n\\n  echo \"\\xe8\\xaf\\x84\\xe4\\xbc\\xb0\\xe6\\xa8\\xa1\\xe5\\x9e\\x8b...\"\\n  \"$PYTHON_BIN\" scripts/evaluation.py --config \"$TMP_CONFIG\" --ckpt_path \"$LATEST_CKPT\" > \"$RESULTS_DIR/eval_${TASK_IDX}.log\" || true\\n\\n  echo \"\\xe5\\x9b\\x9e\\xe6\\xb5\\x8b\\xef\\xbc\\x88test split\\xef\\xbc\\x89...\"\\n  \"$PYTHON_BIN\" scripts/simulate_trade.py --config \"$TMP_CONFIG\" --ckpt_path \"$LATEST_CKPT\" --split test --trade_mode smart > \"$RESULTS_DIR/backtest_${TASK_IDX}.log\" || true\\n\\n  echo \"\\xe5\\x87\\x86\\xe5\\xa4\\x87\\xe5\\x8d\\x95\\xe6\\x97\\xa5\\xe9\\xa2\\x84\\xe6\\xb5\\x8b\\xe8\\xbe\\x93\\xe5\\x85\\xa5 one_day_input.csv...\"\\n  \"$PYTHON_BIN\" - <<PY\\nimport pandas as pd\\ndf = pd.read_csv(\"data/raw.csv\")\\n# \\xe5\\xb0\\x9d\\xe8\\xaf\\x95\\xe5\\x85\\xbc\\xe5\\xae\\xb9\\xe4\\xb8\\x8d\\xe5\\x90\\x8c\\xe7\\x9a\\x84\\xe6\\x97\\xa5\\xe6\\x9c\\x9f\\xe5\\x88\\x97\\xe5\\x90\\x8d\\nfor col in [\\'Date\\',\\'date\\',\\'Timestamp\\',\\'timestamp\\']:\\n    if col in df.columns:\\n        df[\\'Date\\'] = pd.to_datetime(df[col], errors=\\'coerce\\')\\n        break\\nelse:\\n    df[\\'Date\\'] = pd.to_datetime(df.iloc[:,0], errors=\\'coerce\\')\\nend = pd.to_datetime(\"$TEST_END\")\\nsubset = df[df[\\'Date\\'] <= end].tail(90)\\nsubset.to_csv(\"one_day_input.csv\", index=False)\\nprint(\"one_day_input.csv \\xe5\\xb7\\xb2\\xe7\\x94\\x9f\\xe6\\x88\\x90\", subset.shape)\\nPY\\n\\n  echo \"\\xe5\\x8d\\x95\\xe6\\x97\\xa5\\xe9\\xa2\\x84\\xe6\\xb5\\x8b...\"\\n  \"$PYTHON_BIN\" scripts/one_day_pred.py --config \"$TMP_CONFIG\" --ckpt_path \"$LATEST_CKPT\" --input_csv one_day_input.csv > \"$RESULTS_DIR/one_day_pred_${TASK_IDX}.log\" || true\\n\\n  echo \"\\xe4\\xbb\\xbb\\xe5\\x8a\\xa1 $TASK_IDX \\xe5\\xae\\x8c\\xe6\\x88\\x90\\xef\\xbc\\x8c\\xe7\\xbb\\x93\\xe6\\x9e\\x9c\\xe4\\xbf\\x9d\\xe5\\xad\\x98\\xe5\\x9c\\xa8 $RESULTS_DIR\"\\ndone\\n\\necho \"\\xe5\\x85\\xa8\\xe9\\x83\\xa8\\xe4\\xbb\\xbb\\xe5\\x8a\\xa1\\xe5\\xae\\x8c\\xe6\\x88\\x90\\xe3\\x80\\x82\\xe6\\xb1\\x87\\xe6\\x80\\xbb\\xe8\\xaf\\x84\\xe4\\xbc\\xb0\\xe6\\x97\\xa5\\xe5\\xbf\\x97\\xe5\\x9c\\xa8 $RESULTS_DIR\"\\n'' returned non-zero exit status 1.",
          "traceback": [
            "\u001b[0;31m---------------------------------------------------------------------------\u001b[0m",
            "\u001b[0;31mCalledProcessError\u001b[0m                        Traceback (most recent call last)",
            "\u001b[0;32m/tmp/ipython-input-2308152193.py\u001b[0m in \u001b[0;36m<cell line: 0>\u001b[0;34m()\u001b[0m\n\u001b[0;32m----> 1\u001b[0;31m \u001b[0mget_ipython\u001b[0m\u001b[0;34m(\u001b[0m\u001b[0;34m)\u001b[0m\u001b[0;34m.\u001b[0m\u001b[0mrun_cell_magic\u001b[0m\u001b[0;34m(\u001b[0m\u001b[0;34m'bash'\u001b[0m\u001b[0;34m,\u001b[0m \u001b[0;34m''\u001b[0m\u001b[0;34m,\u001b[0m \u001b[0;34m'set -euo pipefail\\ncd /content/CryptoMamba_run/repo\\n\\n# 安装必要库用于 yaml 修改（若已安装会跳过）\\npip install ruamel.yaml --quiet\\n\\nWORKDIR=\"/content/CryptoMamba_run\"\\n# 指向仓库日志目录（含 version_x/checkpoints 子目录）\\nCHECKPOINTS_ROOT=\"$WORKDIR/repo/CryptoMamba/logs/CMamba\"\\nRESULTS_DIR=\"$WORKDIR/results\"\\nmkdir -p \"$RESULTS_DIR\"\\n\\nCONFIG=\"cmamba_v\"\\nPYTHON_BIN=\"python3\"\\nEPOCHS_FOR_QUICK_RUN=3\\n\\n# 检查 rolling_tasks.json\\nTASKS_COUNT=$(python3 -c \"import json,sys;print(len(json.load(open(\\'rolling_tasks.json\\'))))\")\\nif [ \"$TASKS_COUNT\" -eq 0 ]; then\\n  echo \"任务数为 0，请检查 rolling_tasks.json 和数据长度。\" >&2\\n  exit 1\\nfi\\n\\nTASK_IDX=0\\n#for TASK in $(jq -c \\'.[]\\' rolling_tasks.json); do\\n  TASK_IDX=$((TASK_IDX+1))\\n  TRAIN_START=$(echo \"$TASK\" | jq -r \\'.[0]\\')\\n  TRAIN_END=$(echo \"$TASK\" | jq -r \\'.[1]\\')\\n  TEST_START=$(echo \"$TASK\" | jq -r \\'.[2]\\')\\n  TEST_END=$(echo \"$TASK\" | jq -r \\'.[3]\\')\\n\\n  echo \"任务 $TASK_IDX / $TASKS_COUNT: 训练 $TRAIN_START -> $TRAIN_END 测试 $TEST_START -> $TEST_END\"\\n\\n  TMP_CONFIG=\"tmp_config_${TASK_IDX}.yaml\"\\n  if [ -f \"configs/training/${CONFIG}.yaml\" ]; then\\n    cp \"configs/training/${CONFIG}.yaml\" \"$TMP_CONFIG\"\\n  elif [ -f \"configs/${CONFIG}.yaml\" ]; then\\n    cp \"configs/${CONFIG}.yaml\" \"$TMP_CONFIG\"\\n  else\\n    echo \"未找到源配置文件 configs/training/${CONFIG}.yaml 或 configs/${CONFIG}.yaml，跳过该任务\" >...\n\u001b[0m",
            "\u001b[0;32m/usr/local/lib/python3.12/dist-packages/google/colab/_shell.py\u001b[0m in \u001b[0;36mrun_cell_magic\u001b[0;34m(self, magic_name, line, cell)\u001b[0m\n\u001b[1;32m    274\u001b[0m     \u001b[0;32mif\u001b[0m \u001b[0mline\u001b[0m \u001b[0;32mand\u001b[0m \u001b[0;32mnot\u001b[0m \u001b[0mcell\u001b[0m\u001b[0;34m:\u001b[0m\u001b[0;34m\u001b[0m\u001b[0;34m\u001b[0m\u001b[0m\n\u001b[1;32m    275\u001b[0m       \u001b[0mcell\u001b[0m \u001b[0;34m=\u001b[0m \u001b[0;34m' '\u001b[0m\u001b[0;34m\u001b[0m\u001b[0;34m\u001b[0m\u001b[0m\n\u001b[0;32m--> 276\u001b[0;31m     \u001b[0;32mreturn\u001b[0m \u001b[0msuper\u001b[0m\u001b[0;34m(\u001b[0m\u001b[0;34m)\u001b[0m\u001b[0;34m.\u001b[0m\u001b[0mrun_cell_magic\u001b[0m\u001b[0;34m(\u001b[0m\u001b[0mmagic_name\u001b[0m\u001b[0;34m,\u001b[0m \u001b[0mline\u001b[0m\u001b[0;34m,\u001b[0m \u001b[0mcell\u001b[0m\u001b[0;34m)\u001b[0m\u001b[0;34m\u001b[0m\u001b[0;34m\u001b[0m\u001b[0m\n\u001b[0m\u001b[1;32m    277\u001b[0m \u001b[0;34m\u001b[0m\u001b[0m\n\u001b[1;32m    278\u001b[0m \u001b[0;34m\u001b[0m\u001b[0m\n",
            "\u001b[0;32m/usr/local/lib/python3.12/dist-packages/IPython/core/interactiveshell.py\u001b[0m in \u001b[0;36mrun_cell_magic\u001b[0;34m(self, magic_name, line, cell)\u001b[0m\n\u001b[1;32m   2471\u001b[0m             \u001b[0;32mwith\u001b[0m \u001b[0mself\u001b[0m\u001b[0;34m.\u001b[0m\u001b[0mbuiltin_trap\u001b[0m\u001b[0;34m:\u001b[0m\u001b[0;34m\u001b[0m\u001b[0;34m\u001b[0m\u001b[0m\n\u001b[1;32m   2472\u001b[0m                 \u001b[0margs\u001b[0m \u001b[0;34m=\u001b[0m \u001b[0;34m(\u001b[0m\u001b[0mmagic_arg_s\u001b[0m\u001b[0;34m,\u001b[0m \u001b[0mcell\u001b[0m\u001b[0;34m)\u001b[0m\u001b[0;34m\u001b[0m\u001b[0;34m\u001b[0m\u001b[0m\n\u001b[0;32m-> 2473\u001b[0;31m                 \u001b[0mresult\u001b[0m \u001b[0;34m=\u001b[0m \u001b[0mfn\u001b[0m\u001b[0;34m(\u001b[0m\u001b[0;34m*\u001b[0m\u001b[0margs\u001b[0m\u001b[0;34m,\u001b[0m \u001b[0;34m**\u001b[0m\u001b[0mkwargs\u001b[0m\u001b[0;34m)\u001b[0m\u001b[0;34m\u001b[0m\u001b[0;34m\u001b[0m\u001b[0m\n\u001b[0m\u001b[1;32m   2474\u001b[0m             \u001b[0;32mreturn\u001b[0m \u001b[0mresult\u001b[0m\u001b[0;34m\u001b[0m\u001b[0;34m\u001b[0m\u001b[0m\n\u001b[1;32m   2475\u001b[0m \u001b[0;34m\u001b[0m\u001b[0m\n",
            "\u001b[0;32m/usr/local/lib/python3.12/dist-packages/IPython/core/magics/script.py\u001b[0m in \u001b[0;36mnamed_script_magic\u001b[0;34m(line, cell)\u001b[0m\n\u001b[1;32m    140\u001b[0m             \u001b[0;32melse\u001b[0m\u001b[0;34m:\u001b[0m\u001b[0;34m\u001b[0m\u001b[0;34m\u001b[0m\u001b[0m\n\u001b[1;32m    141\u001b[0m                 \u001b[0mline\u001b[0m \u001b[0;34m=\u001b[0m \u001b[0mscript\u001b[0m\u001b[0;34m\u001b[0m\u001b[0;34m\u001b[0m\u001b[0m\n\u001b[0;32m--> 142\u001b[0;31m             \u001b[0;32mreturn\u001b[0m \u001b[0mself\u001b[0m\u001b[0;34m.\u001b[0m\u001b[0mshebang\u001b[0m\u001b[0;34m(\u001b[0m\u001b[0mline\u001b[0m\u001b[0;34m,\u001b[0m \u001b[0mcell\u001b[0m\u001b[0;34m)\u001b[0m\u001b[0;34m\u001b[0m\u001b[0;34m\u001b[0m\u001b[0m\n\u001b[0m\u001b[1;32m    143\u001b[0m \u001b[0;34m\u001b[0m\u001b[0m\n\u001b[1;32m    144\u001b[0m         \u001b[0;31m# write a basic docstring:\u001b[0m\u001b[0;34m\u001b[0m\u001b[0;34m\u001b[0m\u001b[0m\n",
            "\u001b[0;32m<decorator-gen-103>\u001b[0m in \u001b[0;36mshebang\u001b[0;34m(self, line, cell)\u001b[0m\n",
            "\u001b[0;32m/usr/local/lib/python3.12/dist-packages/IPython/core/magic.py\u001b[0m in \u001b[0;36m<lambda>\u001b[0;34m(f, *a, **k)\u001b[0m\n\u001b[1;32m    185\u001b[0m     \u001b[0;31m# but it's overkill for just that one bit of state.\u001b[0m\u001b[0;34m\u001b[0m\u001b[0;34m\u001b[0m\u001b[0m\n\u001b[1;32m    186\u001b[0m     \u001b[0;32mdef\u001b[0m \u001b[0mmagic_deco\u001b[0m\u001b[0;34m(\u001b[0m\u001b[0marg\u001b[0m\u001b[0;34m)\u001b[0m\u001b[0;34m:\u001b[0m\u001b[0;34m\u001b[0m\u001b[0;34m\u001b[0m\u001b[0m\n\u001b[0;32m--> 187\u001b[0;31m         \u001b[0mcall\u001b[0m \u001b[0;34m=\u001b[0m \u001b[0;32mlambda\u001b[0m \u001b[0mf\u001b[0m\u001b[0;34m,\u001b[0m \u001b[0;34m*\u001b[0m\u001b[0ma\u001b[0m\u001b[0;34m,\u001b[0m \u001b[0;34m**\u001b[0m\u001b[0mk\u001b[0m\u001b[0;34m:\u001b[0m \u001b[0mf\u001b[0m\u001b[0;34m(\u001b[0m\u001b[0;34m*\u001b[0m\u001b[0ma\u001b[0m\u001b[0;34m,\u001b[0m \u001b[0;34m**\u001b[0m\u001b[0mk\u001b[0m\u001b[0;34m)\u001b[0m\u001b[0;34m\u001b[0m\u001b[0;34m\u001b[0m\u001b[0m\n\u001b[0m\u001b[1;32m    188\u001b[0m \u001b[0;34m\u001b[0m\u001b[0m\n\u001b[1;32m    189\u001b[0m         \u001b[0;32mif\u001b[0m \u001b[0mcallable\u001b[0m\u001b[0;34m(\u001b[0m\u001b[0marg\u001b[0m\u001b[0;34m)\u001b[0m\u001b[0;34m:\u001b[0m\u001b[0;34m\u001b[0m\u001b[0;34m\u001b[0m\u001b[0m\n",
            "\u001b[0;32m/usr/local/lib/python3.12/dist-packages/IPython/core/magics/script.py\u001b[0m in \u001b[0;36mshebang\u001b[0;34m(self, line, cell)\u001b[0m\n\u001b[1;32m    243\u001b[0m             \u001b[0msys\u001b[0m\u001b[0;34m.\u001b[0m\u001b[0mstderr\u001b[0m\u001b[0;34m.\u001b[0m\u001b[0mflush\u001b[0m\u001b[0;34m(\u001b[0m\u001b[0;34m)\u001b[0m\u001b[0;34m\u001b[0m\u001b[0;34m\u001b[0m\u001b[0m\n\u001b[1;32m    244\u001b[0m         \u001b[0;32mif\u001b[0m \u001b[0margs\u001b[0m\u001b[0;34m.\u001b[0m\u001b[0mraise_error\u001b[0m \u001b[0;32mand\u001b[0m \u001b[0mp\u001b[0m\u001b[0;34m.\u001b[0m\u001b[0mreturncode\u001b[0m\u001b[0;34m!=\u001b[0m\u001b[0;36m0\u001b[0m\u001b[0;34m:\u001b[0m\u001b[0;34m\u001b[0m\u001b[0;34m\u001b[0m\u001b[0m\n\u001b[0;32m--> 245\u001b[0;31m             \u001b[0;32mraise\u001b[0m \u001b[0mCalledProcessError\u001b[0m\u001b[0;34m(\u001b[0m\u001b[0mp\u001b[0m\u001b[0;34m.\u001b[0m\u001b[0mreturncode\u001b[0m\u001b[0;34m,\u001b[0m \u001b[0mcell\u001b[0m\u001b[0;34m,\u001b[0m \u001b[0moutput\u001b[0m\u001b[0;34m=\u001b[0m\u001b[0mout\u001b[0m\u001b[0;34m,\u001b[0m \u001b[0mstderr\u001b[0m\u001b[0;34m=\u001b[0m\u001b[0merr\u001b[0m\u001b[0;34m)\u001b[0m\u001b[0;34m\u001b[0m\u001b[0;34m\u001b[0m\u001b[0m\n\u001b[0m\u001b[1;32m    246\u001b[0m \u001b[0;34m\u001b[0m\u001b[0m\n\u001b[1;32m    247\u001b[0m     \u001b[0;32mdef\u001b[0m \u001b[0m_run_script\u001b[0m\u001b[0;34m(\u001b[0m\u001b[0mself\u001b[0m\u001b[0;34m,\u001b[0m \u001b[0mp\u001b[0m\u001b[0;34m,\u001b[0m \u001b[0mcell\u001b[0m\u001b[0;34m,\u001b[0m \u001b[0mto_close\u001b[0m\u001b[0;34m)\u001b[0m\u001b[0;34m:\u001b[0m\u001b[0;34m\u001b[0m\u001b[0;34m\u001b[0m\u001b[0m\n",
            "\u001b[0;31mCalledProcessError\u001b[0m: Command 'b'set -euo pipefail\\ncd /content/CryptoMamba_run/repo\\n\\n# \\xe5\\xae\\x89\\xe8\\xa3\\x85\\xe5\\xbf\\x85\\xe8\\xa6\\x81\\xe5\\xba\\x93\\xe7\\x94\\xa8\\xe4\\xba\\x8e yaml \\xe4\\xbf\\xae\\xe6\\x94\\xb9\\xef\\xbc\\x88\\xe8\\x8b\\xa5\\xe5\\xb7\\xb2\\xe5\\xae\\x89\\xe8\\xa3\\x85\\xe4\\xbc\\x9a\\xe8\\xb7\\xb3\\xe8\\xbf\\x87\\xef\\xbc\\x89\\npip install ruamel.yaml --quiet\\n\\nWORKDIR=\"/content/CryptoMamba_run\"\\n# \\xe6\\x8c\\x87\\xe5\\x90\\x91\\xe4\\xbb\\x93\\xe5\\xba\\x93\\xe6\\x97\\xa5\\xe5\\xbf\\x97\\xe7\\x9b\\xae\\xe5\\xbd\\x95\\xef\\xbc\\x88\\xe5\\x90\\xab version_x/checkpoints \\xe5\\xad\\x90\\xe7\\x9b\\xae\\xe5\\xbd\\x95\\xef\\xbc\\x89\\nCHECKPOINTS_ROOT=\"$WORKDIR/repo/CryptoMamba/logs/CMamba\"\\nRESULTS_DIR=\"$WORKDIR/results\"\\nmkdir -p \"$RESULTS_DIR\"\\n\\nCONFIG=\"cmamba_v\"\\nPYTHON_BIN=\"python3\"\\nEPOCHS_FOR_QUICK_RUN=3\\n\\n# \\xe6\\xa3\\x80\\xe6\\x9f\\xa5 rolling_tasks.json\\nTASKS_COUNT=$(python3 -c \"import json,sys;print(len(json.load(open(\\'rolling_tasks.json\\'))))\")\\nif [ \"$TASKS_COUNT\" -eq 0 ]; then\\n  echo \"\\xe4\\xbb\\xbb\\xe5\\x8a\\xa1\\xe6\\x95\\xb0\\xe4\\xb8\\xba 0\\xef\\xbc\\x8c\\xe8\\xaf\\xb7\\xe6\\xa3\\x80\\xe6\\x9f\\xa5 rolling_tasks.json \\xe5\\x92\\x8c\\xe6\\x95\\xb0\\xe6\\x8d\\xae\\xe9\\x95\\xbf\\xe5\\xba\\xa6\\xe3\\x80\\x82\" >&2\\n  exit 1\\nfi\\n\\nTASK_IDX=0\\n#for TASK in $(jq -c \\'.[]\\' rolling_tasks.json); do\\n  TASK_IDX=$((TASK_IDX+1))\\n  TRAIN_START=$(echo \"$TASK\" | jq -r \\'.[0]\\')\\n  TRAIN_END=$(echo \"$TASK\" | jq -r \\'.[1]\\')\\n  TEST_START=$(echo \"$TASK\" | jq -r \\'.[2]\\')\\n  TEST_END=$(echo \"$TASK\" | jq -r \\'.[3]\\')\\n\\n  echo \"\\xe4\\xbb\\xbb\\xe5\\x8a\\xa1 $TASK_IDX..."
          ]
        }
      ]
    },
    {
      "cell_type": "code",
      "source": [
        "# 挂载 Google Drive 并将结果目录复制到 Drive（如需）\n",
        "from google.colab import drive\n",
        "drive.mount('/content/drive')\n",
        "!mkdir -p /content/drive/MyDrive/CryptoMamba_results\n",
        "!cp -r /content/CryptoMamba_run/results /content/drive/MyDrive/CryptoMamba_results/\n",
        "print(\"结果已复制到 /content/drive/MyDrive/CryptoMamba_results\")\n"
      ],
      "metadata": {
        "id": "2FXv-l2HNFcw"
      },
      "execution_count": null,
      "outputs": []
    },
    {
      "cell_type": "code",
      "source": [
        "# 挂载 Google Drive 并将结果目录复制到 Drive（如需）\n",
        "from google.colab import drive\n",
        "drive.mount('/content/drive')\n",
        "!mkdir -p /content/drive/MyDrive/CryptoMamba_results\n",
        "!cp -r /content/CryptoMamba_run/results /content/drive/MyDrive/CryptoMamba_results/\n",
        "print(\"结果已复制到 /content/drive/MyDrive/CryptoMamba_results\")\n"
      ],
      "metadata": {
        "id": "OHykBue_MdS8"
      },
      "execution_count": null,
      "outputs": []
    }
  ]
}